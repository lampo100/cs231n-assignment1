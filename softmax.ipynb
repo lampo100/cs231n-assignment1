{
 "cells": [
  {
   "cell_type": "markdown",
   "metadata": {},
   "source": [
    "# Softmax exercise\n",
    "\n",
    "*Complete and hand in this completed worksheet (including its outputs and any supporting code outside of the worksheet) with your assignment submission. For more details see the [assignments page](http://vision.stanford.edu/teaching/cs231n/assignments.html) on the course website.*\n",
    "\n",
    "This exercise is analogous to the SVM exercise. You will:\n",
    "\n",
    "- implement a fully-vectorized **loss function** for the Softmax classifier\n",
    "- implement the fully-vectorized expression for its **analytic gradient**\n",
    "- **check your implementation** with numerical gradient\n",
    "- use a validation set to **tune the learning rate and regularization** strength\n",
    "- **optimize** the loss function with **SGD**\n",
    "- **visualize** the final learned weights\n"
   ]
  },
  {
   "cell_type": "code",
   "execution_count": 1,
   "metadata": {
    "collapsed": false
   },
   "outputs": [],
   "source": [
    "import random\n",
    "import numpy as np\n",
    "from cs231n.data_utils import load_CIFAR10\n",
    "import matplotlib.pyplot as plt\n",
    "\n",
    "from __future__ import print_function\n",
    "\n",
    "%matplotlib inline\n",
    "plt.rcParams['figure.figsize'] = (10.0, 8.0) # set default size of plots\n",
    "plt.rcParams['image.interpolation'] = 'nearest'\n",
    "plt.rcParams['image.cmap'] = 'gray'\n",
    "\n",
    "# for auto-reloading extenrnal modules\n",
    "# see http://stackoverflow.com/questions/1907993/autoreload-of-modules-in-ipython\n",
    "%load_ext autoreload\n",
    "%autoreload 2"
   ]
  },
  {
   "cell_type": "code",
   "execution_count": 2,
   "metadata": {
    "collapsed": false
   },
   "outputs": [
    {
     "name": "stdout",
     "output_type": "stream",
     "text": [
      "Train data shape:  (49000, 3073)\n",
      "Train labels shape:  (49000,)\n",
      "Validation data shape:  (1000, 3073)\n",
      "Validation labels shape:  (1000,)\n",
      "Test data shape:  (1000, 3073)\n",
      "Test labels shape:  (1000,)\n",
      "dev data shape:  (500, 3073)\n",
      "dev labels shape:  (500,)\n"
     ]
    }
   ],
   "source": [
    "def get_CIFAR10_data(num_training=49000, num_validation=1000, num_test=1000, num_dev=500):\n",
    "    \"\"\"\n",
    "    Load the CIFAR-10 dataset from disk and perform preprocessing to prepare\n",
    "    it for the linear classifier. These are the same steps as we used for the\n",
    "    SVM, but condensed to a single function.  \n",
    "    \"\"\"\n",
    "    # Load the raw CIFAR-10 data\n",
    "    cifar10_dir = 'cs231n/datasets/cifar-10-batches-py'\n",
    "    X_train, y_train, X_test, y_test = load_CIFAR10(cifar10_dir)\n",
    "    \n",
    "    # subsample the data\n",
    "    mask = list(range(num_training, num_training + num_validation))\n",
    "    X_val = X_train[mask]\n",
    "    y_val = y_train[mask]\n",
    "    mask = list(range(num_training))\n",
    "    X_train = X_train[mask]\n",
    "    y_train = y_train[mask]\n",
    "    mask = list(range(num_test))\n",
    "    X_test = X_test[mask]\n",
    "    y_test = y_test[mask]\n",
    "    mask = np.random.choice(num_training, num_dev, replace=False)\n",
    "    X_dev = X_train[mask]\n",
    "    y_dev = y_train[mask]\n",
    "    \n",
    "    # Preprocessing: reshape the image data into rows\n",
    "    X_train = np.reshape(X_train, (X_train.shape[0], -1))\n",
    "    X_val = np.reshape(X_val, (X_val.shape[0], -1))\n",
    "    X_test = np.reshape(X_test, (X_test.shape[0], -1))\n",
    "    X_dev = np.reshape(X_dev, (X_dev.shape[0], -1))\n",
    "    \n",
    "    # Normalize the data: subtract the mean image\n",
    "    mean_image = np.mean(X_train, axis = 0)\n",
    "    X_train -= mean_image\n",
    "    X_val -= mean_image\n",
    "    X_test -= mean_image\n",
    "    X_dev -= mean_image\n",
    "    \n",
    "    # add bias dimension and transform into columns\n",
    "    X_train = np.hstack([X_train, np.ones((X_train.shape[0], 1))])\n",
    "    X_val = np.hstack([X_val, np.ones((X_val.shape[0], 1))])\n",
    "    X_test = np.hstack([X_test, np.ones((X_test.shape[0], 1))])\n",
    "    X_dev = np.hstack([X_dev, np.ones((X_dev.shape[0], 1))])\n",
    "    \n",
    "    return X_train, y_train, X_val, y_val, X_test, y_test, X_dev, y_dev\n",
    "\n",
    "\n",
    "# Invoke the above function to get our data.\n",
    "X_train, y_train, X_val, y_val, X_test, y_test, X_dev, y_dev = get_CIFAR10_data()\n",
    "print('Train data shape: ', X_train.shape)\n",
    "print('Train labels shape: ', y_train.shape)\n",
    "print('Validation data shape: ', X_val.shape)\n",
    "print('Validation labels shape: ', y_val.shape)\n",
    "print('Test data shape: ', X_test.shape)\n",
    "print('Test labels shape: ', y_test.shape)\n",
    "print('dev data shape: ', X_dev.shape)\n",
    "print('dev labels shape: ', y_dev.shape)"
   ]
  },
  {
   "cell_type": "markdown",
   "metadata": {},
   "source": [
    "## Softmax Classifier\n",
    "\n",
    "Your code for this section will all be written inside **cs231n/classifiers/softmax.py**. \n"
   ]
  },
  {
   "cell_type": "code",
   "execution_count": 3,
   "metadata": {
    "collapsed": false
   },
   "outputs": [
    {
     "name": "stdout",
     "output_type": "stream",
     "text": [
      "loss: 2.310159\n",
      "sanity check: 2.302585\n"
     ]
    }
   ],
   "source": [
    "# First implement the naive softmax loss function with nested loops.\n",
    "# Open the file cs231n/classifiers/softmax.py and implement the\n",
    "# softmax_loss_naive function.\n",
    "\n",
    "from cs231n.classifiers.softmax import softmax_loss_naive\n",
    "import time\n",
    "\n",
    "# Generate a random softmax weight matrix and use it to compute the loss.\n",
    "W = np.random.randn(3073, 10) * 0.0001\n",
    "loss, grad = softmax_loss_naive(W, X_dev, y_dev, 0.0)\n",
    "\n",
    "# As a rough sanity check, our loss should be something close to -log(0.1).\n",
    "print('loss: %f' % loss)\n",
    "print('sanity check: %f' % (-np.log(0.1)))"
   ]
  },
  {
   "cell_type": "markdown",
   "metadata": {},
   "source": [
    "## Inline Question 1:\n",
    "Why do we expect our loss to be close to -log(0.1)? Explain briefly.**\n",
    "\n",
    "**Your answer:** Because with random weights our probability of getting right class is roughly 1/10\n"
   ]
  },
  {
   "cell_type": "code",
   "execution_count": 8,
   "metadata": {
    "collapsed": false
   },
   "outputs": [
    {
     "name": "stdout",
     "output_type": "stream",
     "text": [
      "numerical: 1.306176 analytic: 1.306176, relative error: 2.985780e-08\n",
      "numerical: 1.539296 analytic: 1.539296, relative error: 4.095231e-08\n",
      "numerical: -0.882297 analytic: -0.882297, relative error: 2.055596e-08\n",
      "numerical: -0.691736 analytic: -0.691736, relative error: 7.361419e-09\n",
      "numerical: -0.848419 analytic: -0.848419, relative error: 4.465199e-08\n",
      "numerical: 0.866684 analytic: 0.866684, relative error: 1.225669e-07\n",
      "numerical: 0.123146 analytic: 0.123146, relative error: 2.167912e-07\n",
      "numerical: 0.092849 analytic: 0.092849, relative error: 4.327180e-07\n",
      "numerical: 0.415523 analytic: 0.415523, relative error: 4.727097e-08\n",
      "numerical: -0.441660 analytic: -0.441660, relative error: 1.605521e-07\n",
      "numerical: 1.057138 analytic: 1.057138, relative error: 6.173379e-08\n",
      "numerical: -0.026242 analytic: -0.026241, relative error: 4.759661e-07\n",
      "numerical: 2.951468 analytic: 2.951468, relative error: 8.730885e-09\n",
      "numerical: -1.181026 analytic: -1.181026, relative error: 1.235574e-08\n",
      "numerical: -1.626658 analytic: -1.626658, relative error: 1.163157e-08\n",
      "numerical: -1.835923 analytic: -1.835923, relative error: 1.723554e-08\n",
      "numerical: -0.155787 analytic: -0.155787, relative error: 1.434120e-07\n",
      "numerical: 1.832610 analytic: 1.832610, relative error: 1.999381e-08\n",
      "numerical: -5.008489 analytic: -5.008489, relative error: 9.670077e-09\n",
      "numerical: 2.017377 analytic: 2.017376, relative error: 1.129778e-08\n"
     ]
    }
   ],
   "source": [
    "# Complete the implementation of softmax_loss_naive and implement a (naive)\n",
    "# version of the gradient that uses nested loops.\n",
    "loss, grad = softmax_loss_naive(W, X_dev, y_dev, 0.0)\n",
    "\n",
    "# As we did for the SVM, use numeric gradient checking as a debugging tool.\n",
    "# The numeric gradient should be close to the analytic gradient.\n",
    "from cs231n.gradient_check import grad_check_sparse\n",
    "f = lambda w: softmax_loss_naive(w, X_dev, y_dev, 0.0)[0]\n",
    "grad_numerical = grad_check_sparse(f, W, grad, 10)\n",
    "\n",
    "# similar to SVM case, do another gradient check with regularization\n",
    "loss, grad = softmax_loss_naive(W, X_dev, y_dev, 5e1)\n",
    "f = lambda w: softmax_loss_naive(w, X_dev, y_dev, 5e1)[0]\n",
    "grad_numerical = grad_check_sparse(f, W, grad, 10)"
   ]
  },
  {
   "cell_type": "code",
   "execution_count": 36,
   "metadata": {
    "collapsed": false
   },
   "outputs": [
    {
     "name": "stdout",
     "output_type": "stream",
     "text": [
      "naive loss: 2.310159e+00 computed in 0.136352s\n",
      "vectorized loss: 2.310159e+00 computed in 0.009320s\n",
      "Loss difference: 0.000000\n",
      "Gradient difference: 0.000000\n"
     ]
    }
   ],
   "source": [
    "# Now that we have a naive implementation of the softmax loss function and its gradient,\n",
    "# implement a vectorized version in softmax_loss_vectorized.\n",
    "# The two versions should compute the same results, but the vectorized version should be\n",
    "# much faster.\n",
    "tic = time.time()\n",
    "loss_naive, grad_naive = softmax_loss_naive(W, X_dev, y_dev, 0.000005)\n",
    "toc = time.time()\n",
    "print('naive loss: %e computed in %fs' % (loss_naive, toc - tic))\n",
    "\n",
    "from cs231n.classifiers.softmax import softmax_loss_vectorized\n",
    "tic = time.time()\n",
    "loss_vectorized, grad_vectorized = softmax_loss_vectorized(W, X_dev, y_dev, 0.000005)\n",
    "toc = time.time()\n",
    "print('vectorized loss: %e computed in %fs' % (loss_vectorized, toc - tic))\n",
    "\n",
    "# As we did for the SVM, we use the Frobenius norm to compare the two versions\n",
    "# of the gradient.\n",
    "grad_difference = np.linalg.norm(grad_naive - grad_vectorized, ord='fro')\n",
    "print('Loss difference: %f' % np.abs(loss_naive - loss_vectorized))\n",
    "print('Gradient difference: %f' % grad_difference)"
   ]
  },
  {
   "cell_type": "code",
   "execution_count": 57,
   "metadata": {
    "collapsed": false
   },
   "outputs": [
    {
     "name": "stdout",
     "output_type": "stream",
     "text": [
      "iteration 0 / 1000: loss 622.157868\n",
      "iteration 100 / 1000: loss 574.308851\n",
      "iteration 200 / 1000: loss 529.886788\n",
      "iteration 300 / 1000: loss 489.722241\n",
      "iteration 400 / 1000: loss 451.760466\n",
      "iteration 500 / 1000: loss 417.337567\n",
      "iteration 600 / 1000: loss 385.114654\n",
      "iteration 700 / 1000: loss 355.679036\n",
      "iteration 800 / 1000: loss 328.392458\n",
      "iteration 900 / 1000: loss 303.281256\n",
      "iteration 0 / 1000: loss 620.653203\n",
      "iteration 100 / 1000: loss 528.785890\n",
      "iteration 200 / 1000: loss 450.458259\n",
      "iteration 300 / 1000: loss 384.173389\n",
      "iteration 400 / 1000: loss 326.861597\n",
      "iteration 500 / 1000: loss 278.744503\n",
      "iteration 600 / 1000: loss 237.679603\n",
      "iteration 700 / 1000: loss 202.631755\n",
      "iteration 800 / 1000: loss 172.881814\n",
      "iteration 900 / 1000: loss 147.650244\n",
      "iteration 0 / 1000: loss 622.140345\n",
      "iteration 100 / 1000: loss 415.920568\n",
      "iteration 200 / 1000: loss 278.982753\n",
      "iteration 300 / 1000: loss 187.287023\n",
      "iteration 400 / 1000: loss 126.090830\n",
      "iteration 500 / 1000: loss 84.941073\n",
      "iteration 600 / 1000: loss 57.589592\n",
      "iteration 700 / 1000: loss 39.225220\n",
      "iteration 800 / 1000: loss 26.991221\n",
      "iteration 900 / 1000: loss 18.821041\n",
      "iteration 0 / 1000: loss 611.862631\n",
      "iteration 100 / 1000: loss 296.856238\n",
      "iteration 200 / 1000: loss 144.984414\n",
      "iteration 300 / 1000: loss 71.398818\n",
      "iteration 400 / 1000: loss 35.637055\n",
      "iteration 500 / 1000: loss 18.332940\n",
      "iteration 600 / 1000: loss 9.982611\n",
      "iteration 700 / 1000: loss 5.927369\n",
      "iteration 800 / 1000: loss 3.889799\n",
      "iteration 900 / 1000: loss 2.944116\n",
      "iteration 0 / 1000: loss 624.598013\n",
      "iteration 100 / 1000: loss 280.270848\n",
      "iteration 200 / 1000: loss 126.623156\n",
      "iteration 300 / 1000: loss 57.760891\n",
      "iteration 400 / 1000: loss 26.961580\n",
      "iteration 500 / 1000: loss 13.230143\n",
      "iteration 600 / 1000: loss 7.074258\n",
      "iteration 700 / 1000: loss 4.258230\n",
      "iteration 800 / 1000: loss 3.063670\n",
      "iteration 900 / 1000: loss 2.447772\n",
      "iteration 0 / 1000: loss 618.793141\n",
      "iteration 100 / 1000: loss 56.599873\n",
      "iteration 200 / 1000: loss 6.987178\n",
      "iteration 300 / 1000: loss 2.493910\n",
      "iteration 400 / 1000: loss 2.070770\n",
      "iteration 500 / 1000: loss 2.111327\n",
      "iteration 600 / 1000: loss 2.012949\n",
      "iteration 700 / 1000: loss 2.044041\n",
      "iteration 800 / 1000: loss 2.075911\n",
      "iteration 900 / 1000: loss 2.108398\n",
      "iteration 0 / 1000: loss 615.953308\n",
      "iteration 100 / 1000: loss 26.190289\n",
      "iteration 200 / 1000: loss 3.037946\n",
      "iteration 300 / 1000: loss 2.123760\n",
      "iteration 400 / 1000: loss 2.048824\n",
      "iteration 500 / 1000: loss 2.044305\n",
      "iteration 600 / 1000: loss 2.050462\n",
      "iteration 700 / 1000: loss 2.056028\n",
      "iteration 800 / 1000: loss 2.070611\n",
      "iteration 900 / 1000: loss 2.079598\n",
      "iteration 0 / 1000: loss 623.147504\n",
      "iteration 100 / 1000: loss 2.937999\n",
      "iteration 200 / 1000: loss 2.070579\n",
      "iteration 300 / 1000: loss 2.074381\n",
      "iteration 400 / 1000: loss 2.086253\n",
      "iteration 500 / 1000: loss 2.086138\n",
      "iteration 600 / 1000: loss 2.108441\n",
      "iteration 700 / 1000: loss 2.103126\n",
      "iteration 800 / 1000: loss 2.082026\n",
      "iteration 900 / 1000: loss 2.127607\n",
      "lr 1.000000e-08 reg 2.000000e+04 train accuracy: 0.160633 val accuracy: 0.154000\n",
      "lr 2.000000e-08 reg 2.000000e+04 train accuracy: 0.197224 val accuracy: 0.210000\n",
      "lr 5.000000e-08 reg 2.000000e+04 train accuracy: 0.302592 val accuracy: 0.317000\n",
      "lr 9.000000e-08 reg 2.000000e+04 train accuracy: 0.333143 val accuracy: 0.339000\n",
      "lr 1.000000e-07 reg 2.000000e+04 train accuracy: 0.331327 val accuracy: 0.341000\n",
      "lr 3.000000e-07 reg 2.000000e+04 train accuracy: 0.340082 val accuracy: 0.353000\n",
      "lr 4.000000e-07 reg 2.000000e+04 train accuracy: 0.330306 val accuracy: 0.346000\n",
      "lr 8.000000e-07 reg 2.000000e+04 train accuracy: 0.323592 val accuracy: 0.331000\n",
      "best validation accuracy achieved during cross-validation: 0.353000\n"
     ]
    }
   ],
   "source": [
    "# Use the validation set to tune hyperparameters (regularization strength and\n",
    "# learning rate). You should experiment with different ranges for the learning\n",
    "# rates and regularization strengths; if you are careful you should be able to\n",
    "# get a classification accuracy of over 0.35 on the validation set.\n",
    "from cs231n.classifiers import Softmax\n",
    "results = {}\n",
    "best_val = -1\n",
    "best_softmax = None\n",
    "learning_rates = [1e-8, 2e-8, 5e-8, 9e-8, 1e-7, 3e-7, 4e-7, 8e-7]\n",
    "regularization_strengths = [2e4]\n",
    "\n",
    "################################################################################\n",
    "# TODO:                                                                        #\n",
    "# Use the validation set to set the learning rate and regularization strength. #\n",
    "# This should be identical to the validation that you did for the SVM; save    #\n",
    "# the best trained softmax classifer in best_softmax.                          #\n",
    "################################################################################\n",
    "for learning_rate in learning_rates:\n",
    "    for regularization_strength in regularization_strengths:\n",
    "        softmax = Softmax()\n",
    "        loss_history = softmax.train(X_train, y_train, learning_rate, regularization_strength, 1000, batch_size = 250,\\\n",
    "                                    verbose = True)\n",
    "        y_train_pred = softmax.predict(X_train)\n",
    "        y_val_pred = softmax.predict(X_val)\n",
    "        y_train_acc = np.mean(y_train_pred == y_train)\n",
    "        y_val_acc = np.mean(y_val_pred == y_val)\n",
    "        results[(learning_rate, regularization_strength)] = (y_train_acc, y_val_acc)\n",
    "        if(y_val_acc > best_val):\n",
    "            best_softmax = softmax\n",
    "            best_val = y_val_acc\n",
    "################################################################################\n",
    "#                              END OF YOUR CODE                                #\n",
    "################################################################################\n",
    "    \n",
    "# Print out results.\n",
    "for lr, reg in sorted(results):\n",
    "    train_accuracy, val_accuracy = results[(lr, reg)]\n",
    "    print('lr %e reg %e train accuracy: %f val accuracy: %f' % (\n",
    "                lr, reg, train_accuracy, val_accuracy))\n",
    "    \n",
    "print('best validation accuracy achieved during cross-validation: %f' % best_val)"
   ]
  },
  {
   "cell_type": "code",
   "execution_count": 58,
   "metadata": {
    "collapsed": false
   },
   "outputs": [
    {
     "name": "stdout",
     "output_type": "stream",
     "text": [
      "softmax on raw pixels final test set accuracy: 0.350000\n"
     ]
    }
   ],
   "source": [
    "# evaluate on test set\n",
    "# Evaluate the best softmax on test set\n",
    "y_test_pred = best_softmax.predict(X_test)\n",
    "test_accuracy = np.mean(y_test == y_test_pred)\n",
    "print('softmax on raw pixels final test set accuracy: %f' % (test_accuracy, ))"
   ]
  },
  {
   "cell_type": "code",
   "execution_count": 59,
   "metadata": {
    "collapsed": false
   },
   "outputs": [
    {
     "data": {
      "image/png": "[encoded data removed]",
      "text/plain": [
       "<matplotlib.figure.Figure at 0x7f7967507828>"
      ]
     },
     "metadata": {},
     "output_type": "display_data"
    }
   ],
   "source": [
    "# Visualize the learned weights for each class\n",
    "w = best_softmax.W[:-1,:] # strip out the bias\n",
    "w = w.reshape(32, 32, 3, 10)\n",
    "\n",
    "w_min, w_max = np.min(w), np.max(w)\n",
    "\n",
    "classes = ['plane', 'car', 'bird', 'cat', 'deer', 'dog', 'frog', 'horse', 'ship', 'truck']\n",
    "for i in range(10):\n",
    "    plt.subplot(2, 5, i + 1)\n",
    "    \n",
    "    # Rescale the weights to be between 0 and 255\n",
    "    wimg = 255.0 * (w[:, :, :, i].squeeze() - w_min) / (w_max - w_min)\n",
    "    plt.imshow(wimg.astype('uint8'))\n",
    "    plt.axis('off')\n",
    "    plt.title(classes[i])"
   ]
  }
 ],
 "metadata": {
  "kernelspec": {
   "display_name": "Python 3",
   "language": "python",
   "name": "python3"
  },
  "language_info": {
   "codemirror_mode": {
    "name": "ipython",
    "version": 3
   },
   "file_extension": ".py",
   "mimetype": "text/x-python",
   "name": "python",
   "nbconvert_exporter": "python",
   "pygments_lexer": "ipython3",
   "version": "3.5.2"
  }
 },
 "nbformat": 4,
 "nbformat_minor": 0
}
